{
 "cells": [
  {
   "cell_type": "code",
   "execution_count": null,
   "metadata": {},
   "outputs": [],
   "source": [
    "import suite2p\n",
    "import numpy as np\n",
    "\n",
    "from pathlib import Path\n",
    "from contextlib import redirect_stdout"
   ]
  },
  {
   "cell_type": "markdown",
   "metadata": {},
   "source": [
    "# define list of folders"
   ]
  },
  {
   "cell_type": "code",
   "execution_count": null,
   "metadata": {},
   "outputs": [],
   "source": [
    "# option 1: manually\n",
    "folders = [\n",
    "    r'C:\\temp\\A214-20221222-02',\n",
    "    r'C:\\temp\\A220-20230419-02',\n",
    "]\n",
    "\n",
    "# option 2: glob expression\n",
    "folders = [ *Path(r'C:\\temp').glob('A2*/') ]\n",
    "\n",
    "folders"
   ]
  },
  {
   "cell_type": "markdown",
   "metadata": {},
   "source": [
    "# run suite2p"
   ]
  },
  {
   "cell_type": "code",
   "execution_count": null,
   "metadata": {},
   "outputs": [],
   "source": [
    "# default ops file\n",
    "ops = np.load(r'Z:\\Dongyan\\mice-expdata\\suite2p.npy', allow_pickle=True).item()\n",
    "\n",
    "# optional: change parameters\n",
    "# ops['spatial_scale'] = 2\n",
    "# ops['two_step_registration'] = 1\n",
    "\n",
    "# cycle through folders\n",
    "for p_data in folders:\n",
    "\n",
    "    print(f'INFO: Running suite2p for {p_data}')\n",
    "    \n",
    "    # save output to 'run.log' file\n",
    "    p_log = p_data / 'run.log'    \n",
    "    print(f'INFO: Saving text output to {p_log}')\n",
    "\n",
    "    # run suite2p\n",
    "    db = {\n",
    "        'data_path': [ str(p_data) ],\n",
    "        'save_path0': str(p_data),\n",
    "    }\n",
    "\n",
    "    with open(p_log, 'w') as f:\n",
    "        with redirect_stdout(f):\n",
    "            print(f'Running suite2p v{suite2p.version} from jupyter notebook')\n",
    "            suite2p.run_s2p(ops=ops, db=db)\n"
   ]
  },
  {
   "cell_type": "code",
   "execution_count": null,
   "metadata": {},
   "outputs": [],
   "source": []
  }
 ],
 "metadata": {
  "kernelspec": {
   "display_name": "suite2p",
   "language": "python",
   "name": "python3"
  },
  "language_info": {
   "codemirror_mode": {
    "name": "ipython",
    "version": 3
   },
   "file_extension": ".py",
   "mimetype": "text/x-python",
   "name": "python",
   "nbconvert_exporter": "python",
   "pygments_lexer": "ipython3",
   "version": "3.8.16"
  }
 },
 "nbformat": 4,
 "nbformat_minor": 2
}
