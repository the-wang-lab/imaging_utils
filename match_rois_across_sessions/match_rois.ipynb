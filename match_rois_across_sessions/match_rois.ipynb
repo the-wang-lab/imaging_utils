{
 "cells": [
  {
   "cell_type": "code",
   "execution_count": null,
   "metadata": {},
   "outputs": [],
   "source": [
    "%load_ext autoreload\n",
    "%autoreload 2\n",
    "\n",
    "import numpy as np\n",
    "import matplotlib.pylab as plt\n",
    "import pandas as pd\n",
    "import seaborn as sns\n",
    "import utils as utl\n",
    "\n",
    "from pystackreg import StackReg\n",
    "import networkx as nx\n",
    "\n",
    "from pathlib import Path"
   ]
  },
  {
   "cell_type": "markdown",
   "metadata": {},
   "source": [
    "# Prepare data"
   ]
  },
  {
   "attachments": {},
   "cell_type": "markdown",
   "metadata": {},
   "source": [
    "## load suite2p data"
   ]
  },
  {
   "cell_type": "code",
   "execution_count": null,
   "metadata": {},
   "outputs": [],
   "source": [
    "# define folders\n",
    "ps = [ p.parent for p in Path('./data/ANMP214/').glob('**/??/**/stat.npy') ]\n",
    "\n",
    "p_out = Path('./output/')\n",
    "p_out.mkdir(exist_ok=True, parents=True)\n",
    "\n",
    "# load refs, rois, meds\n",
    "refs, rois, meds = utl.load_data(ps, only_cells=False)\n",
    "\n",
    "# load ROI info\n",
    "df_roi = utl.get_roi_info(ps)\n",
    "\n",
    "# save\n",
    "df_roi.to_parquet(p_out / 'df_roi_all_info.parquet')"
   ]
  },
  {
   "attachments": {},
   "cell_type": "markdown",
   "metadata": {},
   "source": [
    "## align ref images and rois"
   ]
  },
  {
   "cell_type": "code",
   "execution_count": null,
   "metadata": {},
   "outputs": [],
   "source": [
    "# choose method for registration: https://pystackreg.readthedocs.io/en/latest/readme.html#usage\n",
    "reg = StackReg.BILINEAR\n",
    "# get tranformation matrices\n",
    "tmats = utl.get_tmats(refs, reg)\n",
    "\n",
    "# align ref images\n",
    "refs = utl.align_refs(refs, tmats, reg)\n",
    "# align rois\n",
    "rois = utl.align_rois(rois, tmats, reg)\n",
    "\n",
    "# plot aligned refs to confirm (always inspect registration!!!)\n",
    "utl.plot_gif(refs, p_out / 'aligned_refs.gif')"
   ]
  },
  {
   "attachments": {},
   "cell_type": "markdown",
   "metadata": {},
   "source": [
    "## Calculate CCFs"
   ]
  },
  {
   "cell_type": "code",
   "execution_count": null,
   "metadata": {},
   "outputs": [],
   "source": [
    "# calculate corrcoef, store on disk\n",
    "utl.corrcoeff_wrapper(rois, ps, corr='pearson', use_gpu=True, path=p_out / 'pearson_all_rois')"
   ]
  },
  {
   "cell_type": "code",
   "execution_count": null,
   "metadata": {},
   "outputs": [],
   "source": [
    "# load corrcoef from disk\n",
    "d_cc = utl.load_corrcoef(ps,  p_out / 'pearson_all_rois')"
   ]
  },
  {
   "attachments": {},
   "cell_type": "markdown",
   "metadata": {},
   "source": [
    "# Match ROI pairs"
   ]
  },
  {
   "cell_type": "code",
   "execution_count": null,
   "metadata": {},
   "outputs": [],
   "source": [
    "# assign roi matches based on CC\n",
    "df_all = utl.assign_matches(d_cc)"
   ]
  },
  {
   "cell_type": "code",
   "execution_count": null,
   "metadata": {},
   "outputs": [],
   "source": [
    "# distribution of CCs between matched ROIs\n",
    "sns.histplot(data=df_all, x='cc')"
   ]
  },
  {
   "cell_type": "code",
   "execution_count": null,
   "metadata": {},
   "outputs": [],
   "source": [
    "# plot borderline cases\n",
    "df = df_all\n",
    "# select rois with intermediate CC\n",
    "df = df.loc[ (df.loc[:, 'cc'] > 0.3) & (df.loc[:, 'cc'] < 0.7) ]\n",
    "# select smaller number\n",
    "df = df.sort_values('cc').loc[::100, :]\n",
    "# create gif\n",
    "utl.plot_roi_pairs(df, rois, p_out / 'roi_pairs.gif')"
   ]
  },
  {
   "cell_type": "code",
   "execution_count": null,
   "metadata": {},
   "outputs": [],
   "source": [
    "# check how many ROIs had exactly 0 overlap\n",
    "utl.compare_df_rois(df_all, rois)"
   ]
  },
  {
   "cell_type": "code",
   "execution_count": null,
   "metadata": {},
   "outputs": [],
   "source": [
    "# save\n",
    "df_all.to_parquet(p_out / 'pearson_all_matched.parquet')"
   ]
  },
  {
   "cell_type": "code",
   "execution_count": null,
   "metadata": {},
   "outputs": [],
   "source": [
    "# load\n",
    "df_all = pd.read_parquet(p_out / 'pearson_all_matched.parquet')"
   ]
  },
  {
   "attachments": {},
   "cell_type": "markdown",
   "metadata": {},
   "source": [
    "## find global matches"
   ]
  },
  {
   "cell_type": "code",
   "execution_count": null,
   "metadata": {},
   "outputs": [],
   "source": [
    "# combine roi pairs in singe graph\n",
    "G = utl.construct_graph(df_all)"
   ]
  },
  {
   "cell_type": "code",
   "execution_count": null,
   "metadata": {},
   "outputs": [],
   "source": [
    "# iteratively filter weights to get complete connected components\n",
    "df_matched = utl.collect_connected(G)"
   ]
  },
  {
   "cell_type": "code",
   "execution_count": null,
   "metadata": {},
   "outputs": [],
   "source": [
    "# distribution of matches appearing in n sessions\n",
    "sns.histplot(data=df_matched, x='n', discrete=True)"
   ]
  },
  {
   "cell_type": "code",
   "execution_count": null,
   "metadata": {},
   "outputs": [],
   "source": [
    "# distribution of matches appearing in n sessions\n",
    "sns.histplot(data=df_matched, x='n', discrete=True)"
   ]
  },
  {
   "cell_type": "code",
   "execution_count": null,
   "metadata": {},
   "outputs": [],
   "source": [
    "# which session pairs share how many ROIs\n",
    "utl.plot_session_pairs(df_matched)"
   ]
  },
  {
   "cell_type": "code",
   "execution_count": null,
   "metadata": {},
   "outputs": [],
   "source": [
    "# which session pairs share how many ROIs\n",
    "utl.plot_session_pairs(df_matched)"
   ]
  },
  {
   "cell_type": "code",
   "execution_count": null,
   "metadata": {},
   "outputs": [],
   "source": [
    "# save\n",
    "df_matched.to_parquet(p_out / 'complete.parquet')"
   ]
  },
  {
   "cell_type": "markdown",
   "metadata": {},
   "source": [
    "# Analyze matches"
   ]
  },
  {
   "cell_type": "code",
   "execution_count": null,
   "metadata": {},
   "outputs": [],
   "source": [
    "# load matched ROIS\n",
    "df_matched = pd.read_parquet('./data/ANMP214/corrcoef/complete.parquet')\n",
    "utl.add_skipped(df_matched)\n",
    "\n",
    "# load ROI info\n",
    "df_roi = pd.read_parquet('./data/df_roi_info.parquet')\n",
    "utl.add_nsess(df_roi, df_matched)\n",
    "\n",
    "# dataframes with rate/red channel prob with same structure as df_matched\n",
    "df_rate, df_red = utl.get_rate_red(df_matched, df_roi)"
   ]
  },
  {
   "attachments": {},
   "cell_type": "markdown",
   "metadata": {},
   "source": [
    "## How many sessions? "
   ]
  },
  {
   "cell_type": "code",
   "execution_count": null,
   "metadata": {},
   "outputs": [],
   "source": [
    "# relationship between rate and red channel probability\n",
    "fig, ax = plt.subplots(figsize=(10, 5))\n",
    "sns.scatterplot(data=df_roi, x='rate', y='redcell', hue='n')\n",
    "ax.set_xlabel('average firing rate')\n",
    "ax.set_ylabel('red channel probability')"
   ]
  },
  {
   "cell_type": "code",
   "execution_count": null,
   "metadata": {},
   "outputs": [],
   "source": [
    "# distribution of rates split by number of sessions\n",
    "fig, axarr = plt.subplots(ncols=2, figsize=(20, 5))\n",
    "ax = axarr[0]\n",
    "sns.histplot(data=df_roi, ax=ax, x='rate', y='n', discrete=(False, True))\n",
    "ax.set_title('average firing rate')\n",
    "\n",
    "ax = axarr[1]\n",
    "sns.histplot(data=df_roi, ax=ax, x='redcell', y='n', discrete=(False, True))\n",
    "ax.axvline(0.35, c='gray', ls='--')\n",
    "ax.axvline(0.65, c='gray', ls='--')\n",
    "ax.set_title('red channel probability')\n"
   ]
  },
  {
   "cell_type": "code",
   "execution_count": null,
   "metadata": {},
   "outputs": [],
   "source": [
    "# standard deviation\n",
    "fig, axarr = plt.subplots(ncols=2, figsize=(20, 5))\n",
    "ax = axarr[0]\n",
    "sns.histplot(data=df_rate, ax=ax, x='SD', y='n', discrete=(False, True))\n",
    "ax.set_title('SD of rate')\n",
    "\n",
    "ax = axarr[1]\n",
    "sns.histplot(data=df_red, ax=ax, x='SD', y='n', discrete=(False, True))\n",
    "ax.set_title('SD of red channel probability')\n"
   ]
  },
  {
   "attachments": {},
   "cell_type": "markdown",
   "metadata": {},
   "source": [
    "## time-domain sparsity"
   ]
  },
  {
   "cell_type": "code",
   "execution_count": null,
   "metadata": {},
   "outputs": [],
   "source": [
    "# skipped sessions\n",
    "df = df_matched\n",
    "df = df.loc[ df.loc[:, 'n'] > 1 ]\n",
    "\n",
    "fig, ax = plt.subplots(figsize=(10, 5))\n",
    "sns.histplot(df, ax=ax, x='n_skip', y='n', discrete=True)\n",
    "ax.set_xlabel('number of skipped sessions')"
   ]
  },
  {
   "cell_type": "code",
   "execution_count": null,
   "metadata": {},
   "outputs": [],
   "source": [
    "# interruptions\n",
    "df = df_matched\n",
    "df = df.loc[ df.loc[:, 'n'] > 1 ]\n",
    "\n",
    "fig, ax = plt.subplots(figsize=(10, 5))\n",
    "sns.histplot(df, ax=ax, x='n_dis', y='n', discrete=True)\n",
    "ax.plot(np.arange(0, 14), c='gray', ls='--')\n",
    "ax.plot(np.arange(26, 12, -1), c='gray', ls='--')\n",
    "ax.set_xlabel('number of interruptions')"
   ]
  },
  {
   "attachments": {},
   "cell_type": "markdown",
   "metadata": {},
   "source": [
    "## Are there \"bad\" sessions?"
   ]
  },
  {
   "cell_type": "code",
   "execution_count": null,
   "metadata": {},
   "outputs": [],
   "source": [
    "# skipped sessions\n",
    "df = utl.get_skipped_sessions(df_matched)\n",
    "fig, axarr = plt.subplots(ncols=2, figsize=(20, 5))\n",
    "\n",
    "ax = axarr[0]\n",
    "sns.histplot(df, ax=ax, x='session', discrete=True)\n",
    "\n",
    "ax = axarr[1]\n",
    "sns.histplot(df, ax=ax, x='session', y='n', discrete=True)"
   ]
  },
  {
   "cell_type": "markdown",
   "metadata": {},
   "source": [
    "# consecutive sessions"
   ]
  },
  {
   "cell_type": "code",
   "execution_count": null,
   "metadata": {},
   "outputs": [],
   "source": [
    "df = utl.count_nonunique(df_matched)\n",
    "fig, ax = plt.subplots(figsize=(20, 15))\n",
    "\n",
    "sns.heatmap(data=df, ax=ax, annot=True, fmt='.0f', square=True, cbar_kws={'label': 'number of non-unique ROIs'})"
   ]
  },
  {
   "cell_type": "code",
   "execution_count": null,
   "metadata": {},
   "outputs": [],
   "source": [
    "# which session pairs share how many ROIs\n",
    "utl.plot_session_pairs(df_matched, normalize='row')"
   ]
  },
  {
   "attachments": {},
   "cell_type": "markdown",
   "metadata": {},
   "source": [
    "## TODO: anatomical distance"
   ]
  },
  {
   "cell_type": "code",
   "execution_count": null,
   "metadata": {},
   "outputs": [],
   "source": [
    "def add_nn(df, min_n=1):\n",
    "\n",
    "    df_ = df.loc[ df.loc[:, 'n'] > min_n ]\n",
    "\n",
    "    for _, df_s in df_.groupby('s'):\n",
    "        XY = df_s.loc[:, ['x', 'y']]\n",
    "\n",
    "        for _, df_r in df_s.groupby('r'):\n",
    "            xy = df_r.loc[:, ['x', 'y']].values\n",
    "            # i = np.argsort(np.linalg.norm(XY - xy, axis=1))[1]\n",
    "            d = np.sort(np.linalg.norm(XY - xy, axis=1))[1]\n",
    "            df.loc[df_r.index, 'dNN{}'.format(min_n)] = d\n",
    "\n",
    "\n",
    "add_nn(df_roi, min_n=0)\n",
    "add_nn(df_roi, min_n=1)\n",
    "add_nn(df_roi, min_n=2)\n"
   ]
  },
  {
   "cell_type": "code",
   "execution_count": null,
   "metadata": {},
   "outputs": [],
   "source": [
    "fig, ax = plt.subplots(figsize=(10, 5))\n",
    "\n",
    "sns.histplot(df_roi, x='dNN0', y='s', discrete=(False, True))"
   ]
  },
  {
   "cell_type": "markdown",
   "metadata": {},
   "source": [
    "# show ROIs"
   ]
  },
  {
   "cell_type": "code",
   "execution_count": null,
   "metadata": {},
   "outputs": [],
   "source": [
    "import io\n",
    "import imageio\n",
    "ps = [ p.parent for p in Path('./data/ANMP214/A214-20221214/02/').glob('**/stat.npy') ]\n",
    "\n",
    "# load refs, rois, meds\n",
    "refs, rois, meds = utl.load_data(ps, only_cells=False)\n",
    "\n",
    "# load ROI info\n",
    "df_roi = utl.get_roi_info(ps)\n"
   ]
  },
  {
   "cell_type": "code",
   "execution_count": null,
   "metadata": {},
   "outputs": [],
   "source": [
    "roi = rois[0]\n",
    "ref = refs[0]\n",
    "med = meds[0]\n",
    "\n",
    "fig, ax  = plt.subplots(figsize=(10, 10))\n",
    "ax.imshow(ref)\n",
    "\n",
    "buf = io.BytesIO()\n",
    "fig.savefig(buf)\n",
    "img1 = imageio.imread(buf)\n",
    "\n",
    "for r, m in zip(roi, med):\n",
    "    # l = r[r > 1e-8].mean()\n",
    "    r = r.copy()\n",
    "    r[r == 0] = np.nan\n",
    "    ax.imshow(r, cmap='Reds')\n",
    "    ax.scatter(m[0], m[1], c='w', marker='x')\n",
    "\n",
    "buf = io.BytesIO()\n",
    "fig.savefig(buf)\n",
    "img2 = imageio.imread(buf)"
   ]
  },
  {
   "cell_type": "code",
   "execution_count": null,
   "metadata": {},
   "outputs": [],
   "source": [
    "with imageio.get_writer('test.gif', mode='I', duration=1000 / 2, loop=0) as writer:\n",
    "    for img in [img1, img2]:\n",
    "        writer.append_data(img)"
   ]
  },
  {
   "cell_type": "code",
   "execution_count": null,
   "metadata": {},
   "outputs": [],
   "source": []
  }
 ],
 "metadata": {
  "kernelspec": {
   "display_name": "base",
   "language": "python",
   "name": "python3"
  },
  "language_info": {
   "codemirror_mode": {
    "name": "ipython",
    "version": 3
   },
   "file_extension": ".py",
   "mimetype": "text/x-python",
   "name": "python",
   "nbconvert_exporter": "python",
   "pygments_lexer": "ipython3",
   "version": "3.11.0"
  },
  "orig_nbformat": 4
 },
 "nbformat": 4,
 "nbformat_minor": 2
}
