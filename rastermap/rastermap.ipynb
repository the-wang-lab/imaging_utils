{
 "cells": [
  {
   "cell_type": "code",
   "execution_count": null,
   "metadata": {},
   "outputs": [],
   "source": [
    "import utils_rastermap as ult_rm\n",
    "\n",
    "# path to the suite2p folder\n",
    "p = r'Z:\\Nico\\ANMP214_old_0.14\\A214-20221214\\02\\suite2p\\plane0'"
   ]
  },
  {
   "cell_type": "markdown",
   "metadata": {},
   "source": [
    "# plotting rastermaps\n",
    "\n",
    "Rastermaps can be generated using the \"Visualize data\" feature in `suite2p` GUI or directly using the `rastermap` package.\n",
    "The results look slightly different, since `suite2p` is doing additional data processing \n",
    "[under the hood](https://github.com/MouseLand/suite2p/blob/main/suite2p/gui/visualize.py),\n",
    "but both approaches use the [`rastermap.Rastermap()` class](https://github.com/MouseLand/rastermap/blob/0eee094c3f681076721ecb3a87674e6ff3af0267/rastermap/rastermap.py#L78).\n",
    "In contrast to the `suite2p` GUI, calling `Rastermap()` directly gives us control over parameters affecting the rastermap algorithm\n",
    "as well as direct access to the resulting neuron sorting.\n",
    "\n",
    "## using this notebook\n",
    "This notebook replicates the steps that suite2p is doing to plot the rastermap in the GUI.\n",
    "You can select various types of traces via the `utl_rm.normalize_traces` function."
   ]
  },
  {
   "cell_type": "code",
   "execution_count": null,
   "metadata": {},
   "outputs": [],
   "source": [
    "# extract traces\n",
    "f = ult_rm.get_trace(p, trace='F-Fneu', only_cell=False, chan2=False)\n",
    "\n",
    "# same processing as suite2p: normalize\n",
    "f = ult_rm.normalize_traces(f)\n",
    "\n",
    "# compute rastermap: neurons in f_s are now sorted\n",
    "f_s = ult_rm.compute_rastermap(f)\n",
    "\n",
    "# same processing as suite2p: apply smoothing (incl. additional normalization)\n",
    "f_s = ult_rm.smooth_rastermap(f_s)\n",
    "\n",
    "# plot\n",
    "ult_rm.plot_rastermap(f_s)"
   ]
  },
  {
   "cell_type": "markdown",
   "metadata": {},
   "source": [
    "## Changing settings\n",
    "Multiple parameters can modify the rastermap algorithm (see [rastermap paper](https://doi.org/10.1101/2023.07.25.550571 ) for more info).\n",
    "For example, some settings are better for detecting sequences in data, as suggested by the \n",
    "[`rastermap.sequence_settings()`](https://github.com/MouseLand/rastermap/blob/0eee094c3f681076721ecb3a87674e6ff3af0267/rastermap/rastermap.py#L31)\n",
    "function.\n",
    "Note, that `sequence_settings()` inherits its values from\n",
    "[`default_settings()`](https://github.com/MouseLand/rastermap/blob/0eee094c3f681076721ecb3a87674e6ff3af0267/rastermap/rastermap.py#L15C9-L15C9)\n",
    ", which is not actually being used when calling\n",
    "[`Rastermap()`](https://github.com/MouseLand/rastermap/blob/0eee094c3f681076721ecb3a87674e6ff3af0267/rastermap/rastermap.py#L139)\n",
    "with out any arguments, as is obvious from the `__init__` function of the `Rastermap()` class.\n",
    "\n",
    "Nevertheless, they serve as a good starting point to modify the parameters for data with sequences:"
   ]
  },
  {
   "cell_type": "code",
   "execution_count": null,
   "metadata": {},
   "outputs": [],
   "source": [
    "# print default and sequence settings\n",
    "from rastermap.rastermap import default_settings, sequence_settings\n",
    "print(' Default settings: ', default_settings())\n",
    "print('Sequence settings: ', sequence_settings())"
   ]
  },
  {
   "cell_type": "code",
   "execution_count": null,
   "metadata": {},
   "outputs": [],
   "source": [
    "# default settings (no smoothing)\n",
    "f = ult_rm.get_trace(p)\n",
    "f = ult_rm.normalize_traces(f)\n",
    "f_s = ult_rm.compute_rastermap(f, rastermap_kw=default_settings())\n",
    "ult_rm.plot_rastermap(f_s)"
   ]
  },
  {
   "cell_type": "code",
   "execution_count": null,
   "metadata": {},
   "outputs": [],
   "source": [
    "# sequence settings (no smoothing)\n",
    "f = ult_rm.get_trace(p)\n",
    "f = ult_rm.normalize_traces(f)\n",
    "f_s = ult_rm.compute_rastermap(f, rastermap_kw=sequence_settings())\n",
    "ult_rm.plot_rastermap(f_s)"
   ]
  },
  {
   "cell_type": "code",
   "execution_count": null,
   "metadata": {},
   "outputs": [],
   "source": []
  }
 ],
 "metadata": {
  "kernelspec": {
   "display_name": "suite2p",
   "language": "python",
   "name": "python3"
  },
  "language_info": {
   "codemirror_mode": {
    "name": "ipython",
    "version": 3
   },
   "file_extension": ".py",
   "mimetype": "text/x-python",
   "name": "python",
   "nbconvert_exporter": "python",
   "pygments_lexer": "ipython3",
   "version": "3.8.16"
  },
  "orig_nbformat": 4
 },
 "nbformat": 4,
 "nbformat_minor": 2
}
