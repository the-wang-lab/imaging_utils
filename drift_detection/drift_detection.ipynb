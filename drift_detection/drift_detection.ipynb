{
 "cells": [
  {
   "cell_type": "code",
   "execution_count": 5,
   "metadata": {},
   "outputs": [
    {
     "name": "stdout",
     "output_type": "stream",
     "text": [
      "The autoreload extension is already loaded. To reload it, use:\n",
      "  %reload_ext autoreload\n"
     ]
    }
   ],
   "source": [
    "%load_ext autoreload\n",
    "%autoreload 2\n",
    "\n",
    "import utils as utl\n",
    "from pathlib import Path\n",
    "import pickle"
   ]
  },
  {
   "cell_type": "markdown",
   "metadata": {},
   "source": [
    "# compare snapshots with mean image"
   ]
  },
  {
   "cell_type": "code",
   "execution_count": 7,
   "metadata": {},
   "outputs": [
    {
     "data": {
      "text/plain": [
       "{'A214-20221214-02': WindowsPath('Z:/Dongyan/mice-expdata/ANMP214/A214-20221214/02/suite2p/plane0/reg_tif_chan2'),\n",
       " 'A214-20221215-02': WindowsPath('Z:/Dongyan/mice-expdata/ANMP214/A214-20221215/02/suite2p/plane0/reg_tif_chan2'),\n",
       " 'A214-20221215-04': WindowsPath('Z:/Dongyan/mice-expdata/ANMP214/A214-20221215/04/suite2p/plane0/reg_tif_chan2'),\n",
       " 'A214-20221216-02': WindowsPath('Z:/Dongyan/mice-expdata/ANMP214/A214-20221216/02/suite2p/plane0/reg_tif_chan2'),\n",
       " 'A214-20221216-04': WindowsPath('Z:/Dongyan/mice-expdata/ANMP214/A214-20221216/04/suite2p/plane0/reg_tif_chan2'),\n",
       " 'A214-20221217-02': WindowsPath('Z:/Dongyan/mice-expdata/ANMP214/A214-20221217/02/suite2p/plane0/reg_tif_chan2'),\n",
       " 'A214-20221218-02': WindowsPath('Z:/Dongyan/mice-expdata/ANMP214/A214-20221218/02/suite2p/plane0/reg_tif_chan2'),\n",
       " 'A214-20221218-04': WindowsPath('Z:/Dongyan/mice-expdata/ANMP214/A214-20221218/04/suite2p/plane0/reg_tif_chan2'),\n",
       " 'A214-20221219-02': WindowsPath('Z:/Dongyan/mice-expdata/ANMP214/A214-20221219/02/suite2p/plane0/reg_tif_chan2'),\n",
       " 'A214-20221220-02': WindowsPath('Z:/Dongyan/mice-expdata/ANMP214/A214-20221220/02/suite2p/plane0/reg_tif_chan2'),\n",
       " 'A214-20221220-04': WindowsPath('Z:/Dongyan/mice-expdata/ANMP214/A214-20221220/04/suite2p/plane0/reg_tif_chan2'),\n",
       " 'A214-20221221-02': WindowsPath('Z:/Dongyan/mice-expdata/ANMP214/A214-20221221/02/suite2p/plane0/reg_tif_chan2'),\n",
       " 'A214-20221221-04': WindowsPath('Z:/Dongyan/mice-expdata/ANMP214/A214-20221221/04/suite2p/plane0/reg_tif_chan2'),\n",
       " 'A214-20221222-02': WindowsPath('Z:/Dongyan/mice-expdata/ANMP214/A214-20221222/02/suite2p/plane0/reg_tif_chan2'),\n",
       " 'A214-20221222-04': WindowsPath('Z:/Dongyan/mice-expdata/ANMP214/A214-20221222/04/suite2p/plane0/reg_tif_chan2'),\n",
       " 'A214-20221222-06': WindowsPath('Z:/Dongyan/mice-expdata/ANMP214/A214-20221222/06/suite2p/plane0/reg_tif_chan2'),\n",
       " 'A214-20221223-02': WindowsPath('Z:/Dongyan/mice-expdata/ANMP214/A214-20221223/02/suite2p/plane0/reg_tif_chan2'),\n",
       " 'A214-20221223-04': WindowsPath('Z:/Dongyan/mice-expdata/ANMP214/A214-20221223/04/suite2p/plane0/reg_tif_chan2'),\n",
       " 'A214-20221224-02': WindowsPath('Z:/Dongyan/mice-expdata/ANMP214/A214-20221224/02/suite2p/plane0/reg_tif_chan2'),\n",
       " 'A214-20221224-04': WindowsPath('Z:/Dongyan/mice-expdata/ANMP214/A214-20221224/04/suite2p/plane0/reg_tif_chan2'),\n",
       " 'A214-20221225-02': WindowsPath('Z:/Dongyan/mice-expdata/ANMP214/A214-20221225/02/suite2p/plane0/reg_tif_chan2'),\n",
       " 'A214-20221225-04': WindowsPath('Z:/Dongyan/mice-expdata/ANMP214/A214-20221225/04/suite2p/plane0/reg_tif_chan2'),\n",
       " 'A214-20221226-02': WindowsPath('Z:/Dongyan/mice-expdata/ANMP214/A214-20221226/02/suite2p/plane0/reg_tif_chan2'),\n",
       " 'A214-20221226-04': WindowsPath('Z:/Dongyan/mice-expdata/ANMP214/A214-20221226/04/suite2p/plane0/reg_tif_chan2'),\n",
       " 'A214-20221226-06': WindowsPath('Z:/Dongyan/mice-expdata/ANMP214/A214-20221226/06/suite2p/plane0/reg_tif_chan2')}"
      ]
     },
     "execution_count": 7,
     "metadata": {},
     "output_type": "execute_result"
    }
   ],
   "source": [
    "# # define folders with registered tif files as list of Path objects\n",
    "ps = [ *Path(r'Z:\\Dongyan\\mice-expdata').glob('ANMP214/A214-*/??/suite2p/plane0/reg_tif_chan2') ]\n",
    "\n",
    "# mapping: session name -> folders\n",
    "name2path = { '{}-{}'.format(*p.parts[-5:-3]): p for p in ps }\n",
    "\n",
    "# inspect dictionary\n",
    "name2path"
   ]
  },
  {
   "cell_type": "code",
   "execution_count": 11,
   "metadata": {},
   "outputs": [],
   "source": [
    "nb = 10\n",
    "\n",
    "for nf in [10, 25, 50, 100, 250]:\n",
    "\n",
    "    tmp = f'tmp_plots_{nb}_{nf}'\n",
    "\n",
    "    name2imgs = { name: utl.load_sample_images(path, nblocks=nb, nframes=nf) for name, path in name2path.items() }\n",
    "\n",
    "    with open(f'{tmp}.pickle', 'wb') as f:\n",
    "        pickle.dump(name2imgs, f)\n",
    "\n",
    "    # plot diff images normalized to same scale\n",
    "    utl.plot_diff(name2imgs, f'{tmp}.png')"
   ]
  },
  {
   "cell_type": "code",
   "execution_count": null,
   "metadata": {},
   "outputs": [],
   "source": []
  }
 ],
 "metadata": {
  "kernelspec": {
   "display_name": "imaging",
   "language": "python",
   "name": "python3"
  },
  "language_info": {
   "codemirror_mode": {
    "name": "ipython",
    "version": 3
   },
   "file_extension": ".py",
   "mimetype": "text/x-python",
   "name": "python",
   "nbconvert_exporter": "python",
   "pygments_lexer": "ipython3",
   "version": "3.10.11"
  },
  "orig_nbformat": 4
 },
 "nbformat": 4,
 "nbformat_minor": 2
}
