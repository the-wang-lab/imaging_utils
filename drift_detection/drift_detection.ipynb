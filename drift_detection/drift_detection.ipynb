{
 "cells": [
  {
   "cell_type": "code",
   "execution_count": null,
   "metadata": {},
   "outputs": [],
   "source": [
    "%load_ext autoreload\n",
    "%autoreload 2\n",
    "\n",
    "import utils as utl\n",
    "from pathlib import Path"
   ]
  },
  {
   "cell_type": "markdown",
   "metadata": {},
   "source": [
    "# first vs. last frames"
   ]
  },
  {
   "cell_type": "code",
   "execution_count": null,
   "metadata": {},
   "outputs": [],
   "source": [
    "# define list of folders with registered tif files\n",
    "ps = [\n",
    "    r'C:\\temp\\A214-20221222-02\\suite2p\\plane0\\reg_tif_chan2',\n",
    "    r'C:\\temp\\A220-20230419-02\\suite2p\\plane0\\reg_tif_chan2',\n",
    "]\n",
    "\n",
    "# convert to Path objects\n",
    "ps = [ Path(p) for p in ps ]\n",
    "\n",
    "# mapping: session name -> folders\n",
    "name2path = { p.parts[-4]: p for p in ps }\n",
    "\n",
    "# inspect dictionary\n",
    "name2path"
   ]
  },
  {
   "cell_type": "code",
   "execution_count": null,
   "metadata": {},
   "outputs": [],
   "source": [
    "# define number of frames to average\n",
    "nframes = 1000\n",
    "\n",
    "# mapping: session name -> (average first frames, average last frames)\n",
    "name2imgs = { n: utl.load_first_last(p, nframes=nframes) for n, p in name2path.items() }"
   ]
  },
  {
   "cell_type": "code",
   "execution_count": null,
   "metadata": {},
   "outputs": [],
   "source": [
    "# plot diff images normalized to same scale\n",
    "utl.plot_diff(name2imgs)"
   ]
  },
  {
   "cell_type": "code",
   "execution_count": null,
   "metadata": {},
   "outputs": [],
   "source": []
  }
 ],
 "metadata": {
  "kernelspec": {
   "display_name": "imaging",
   "language": "python",
   "name": "python3"
  },
  "language_info": {
   "codemirror_mode": {
    "name": "ipython",
    "version": 3
   },
   "file_extension": ".py",
   "mimetype": "text/x-python",
   "name": "python",
   "nbconvert_exporter": "python",
   "pygments_lexer": "ipython3",
   "version": "3.10.11"
  },
  "orig_nbformat": 4
 },
 "nbformat": 4,
 "nbformat_minor": 2
}
